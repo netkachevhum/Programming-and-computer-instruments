{
 "cells": [
  {
   "cell_type": "markdown",
   "metadata": {},
   "source": [
    "# Работа с файлами и папками при помощи Python\n",
    "\n",
    "__Python__ умеет общаться с файловой системой компьютера и делать всякие операции с файлами и папками. Таким образом, с помощью питона можно\n",
    "* Прочитать все файлы в одной папке\n",
    "* Копировать, перемещать, переименовывать файлы\n",
    "* Создавать папки\n",
    "* Ходить по файлам и папкам внутри всего компьютера (об этом позже)\n",
    "\n",
    "Мы уже пользовались дополнительными модулями, такими как `random` и `re`. Функции, работающие с файлами и папками, хранятся в нескольких модулях. Мы будем работать с модулями `os` (от *operation system*) и `shutil` (от *shell utilities*).\n",
    "\n",
    "Модуль os умеет определять вашу операционную систему и работать с ней надлежащим образом. Например, в разных операционных системах по-разному пишутся пути в файлах и папках. На __Mac OS__ и __Linux__ путь пишется через `/` (например, `/home/user/Desktop/myfile.txt`), а в __Windows__ - через `\\` (например, `C:\\Users\\student\\Downloads\\myfile.txt`). Поскольку в питоне обратный слэш является служебным символом, приходится ещё и экранировать: `C:\\\\Users\\\\student\\\\Downloads\\myfile.txt`. Если программа была написана пользователем, работающим на __Windows__, и этот пользователь написал в программе абсолютные пути, используя обратный слэш, то на других операционных системах программа выдаст ошибку.\n",
    "Чтобы избежать этиъ неприятностей, можно использовать функцию `os.path.join`. Эта функция принимает на вход имя папки и имя файла, а возвращает путь к файлу, записанный по стандарту той операционной системы, на которой выполняется программа."
   ]
  },
  {
   "cell_type": "code",
   "execution_count": 15,
   "metadata": {
    "collapsed": false
   },
   "outputs": [
    {
     "name": "stdout",
     "output_type": "stream",
     "text": [
      "folder/file.txt\n"
     ]
    }
   ],
   "source": [
    "print(os.path.join('folder', 'file.txt'))"
   ]
  },
  {
   "cell_type": "markdown",
   "metadata": {},
   "source": [
    "## os.listdir()\n",
    "Одна из распространенных задач - прочитать не один какой-то файл, а несколько файлов, лежащих в одной папке. Например, в папке с программой у нас есть папка `texts`, и в ней лежат несколько текстовых файлов, которые нужны нам для работы: `1.txt, 2.txt, 3.txt, 4.txt`. Можно, конечно, указать их имена в виде массива, и пройтись циклом по этому массиву, но можно использовать функцию `listdir` в модуле `os`, которая принимает в качестве аргумента путь к какой-то папке и возвращает массив с именами файлов, лежащих в этой папке."
   ]
  },
  {
   "cell_type": "code",
   "execution_count": 8,
   "metadata": {
    "collapsed": false
   },
   "outputs": [
    {
     "name": "stdout",
     "output_type": "stream",
     "text": [
      "file:  1.txt    text:  1\n",
      "file:  2.txt    text:  2\n",
      "file:  3.txt    text:  3\n",
      "file:  4.txt    text:  4\n"
     ]
    }
   ],
   "source": [
    "import os\n",
    "# вот плохой путь с заданием имен файлов внутри программы\n",
    "folder = 'texts'\n",
    "files = ['1.txt', '2.txt', '3.txt', '4.txt']\n",
    "for f in files:\n",
    "    with open(os.path.join(folder, f)) as text:\n",
    "        print('file: ', f, '   text: ', text.read())"
   ]
  },
  {
   "cell_type": "code",
   "execution_count": 9,
   "metadata": {
    "collapsed": false
   },
   "outputs": [
    {
     "name": "stdout",
     "output_type": "stream",
     "text": [
      "['1.txt', '2.txt', '4.txt', '3.txt']\n",
      "file:  1.txt    text:  1\n",
      "file:  2.txt    text:  2\n",
      "file:  4.txt    text:  4\n",
      "file:  3.txt    text:  3\n"
     ]
    }
   ],
   "source": [
    "# вот хороший путь с использованием функции listdir\n",
    "folder = 'texts'\n",
    "print(os.listdir(folder))\n",
    "for f in os.listdir(folder):\n",
    "     with open(os.path.join(folder, f)) as text:\n",
    "        print('file: ', f, '   text: ', text.read())"
   ]
  },
  {
   "cell_type": "markdown",
   "metadata": {},
   "source": [
    "Нужно не забывать к названию файла добавлять название папки, в которой он лежит - Python по умолчанию смотрит только на текущую папку (в которой лежит программа), и если файла там не найдется, программа выдаст ошибку."
   ]
  },
  {
   "cell_type": "code",
   "execution_count": 16,
   "metadata": {
    "collapsed": false
   },
   "outputs": [
    {
     "ename": "FileNotFoundError",
     "evalue": "[Errno 2] No such file or directory: '1.txt'",
     "output_type": "error",
     "traceback": [
      "\u001b[0;31m---------------------------------------------------------------------------\u001b[0m",
      "\u001b[0;31mFileNotFoundError\u001b[0m                         Traceback (most recent call last)",
      "\u001b[0;32m<ipython-input-16-a4d148f0ef60>\u001b[0m in \u001b[0;36m<module>\u001b[0;34m()\u001b[0m\n\u001b[1;32m      1\u001b[0m \u001b[0;32mfor\u001b[0m \u001b[0mf\u001b[0m \u001b[0;32min\u001b[0m \u001b[0mfiles\u001b[0m\u001b[0;34m:\u001b[0m\u001b[0;34m\u001b[0m\u001b[0m\n\u001b[0;32m----> 2\u001b[0;31m     \u001b[0;32mwith\u001b[0m \u001b[0mopen\u001b[0m\u001b[0;34m(\u001b[0m\u001b[0mf\u001b[0m\u001b[0;34m)\u001b[0m \u001b[0;32mas\u001b[0m \u001b[0mtext\u001b[0m\u001b[0;34m:\u001b[0m\u001b[0;34m\u001b[0m\u001b[0m\n\u001b[0m\u001b[1;32m      3\u001b[0m         \u001b[0mprint\u001b[0m\u001b[0;34m(\u001b[0m\u001b[0;34m'file: '\u001b[0m\u001b[0;34m,\u001b[0m \u001b[0mf\u001b[0m\u001b[0;34m,\u001b[0m \u001b[0;34m'   text: '\u001b[0m\u001b[0;34m,\u001b[0m \u001b[0mtext\u001b[0m\u001b[0;34m.\u001b[0m\u001b[0mread\u001b[0m\u001b[0;34m(\u001b[0m\u001b[0;34m)\u001b[0m\u001b[0;34m)\u001b[0m\u001b[0;34m\u001b[0m\u001b[0m\n",
      "\u001b[0;31mFileNotFoundError\u001b[0m: [Errno 2] No such file or directory: '1.txt'"
     ]
    }
   ],
   "source": [
    "for f in files:\n",
    "    with open(f) as text:\n",
    "        print('file: ', f, '   text: ', text.read())"
   ]
  },
  {
   "cell_type": "markdown",
   "metadata": {},
   "source": [
    "С помощью функции `os.listdir()` можно также смотреть, какие файлы находятся в текущей папке. Для обозначения текущей папки используется точка (\".\")"
   ]
  },
  {
   "cell_type": "code",
   "execution_count": 19,
   "metadata": {
    "collapsed": false
   },
   "outputs": [
    {
     "data": {
      "text/plain": [
       "['2017.04.10 Работа с файлами и папками.ipynb',\n",
       " '2017.04.03 Повторение, comprehensions, format.ipynb',\n",
       " '1_Лекция_Лингвистические электронные ресурсы.pdf',\n",
       " '.ipynb_checkpoints',\n",
       " 'corpus_freq.xlsx',\n",
       " 'texts',\n",
       " 'Regex.pdf']"
      ]
     },
     "execution_count": 19,
     "metadata": {},
     "output_type": "execute_result"
    }
   ],
   "source": [
    "os.listdir('.')"
   ]
  },
  {
   "cell_type": "markdown",
   "metadata": {},
   "source": [
    "Можно распечатать абсолютный путь к текущей папке."
   ]
  },
  {
   "cell_type": "code",
   "execution_count": 41,
   "metadata": {
    "collapsed": false
   },
   "outputs": [
    {
     "data": {
      "text/plain": [
       "'/home/lizaku/Документы/Work/Programming-and-computer-instruments/seminars'"
      ]
     },
     "execution_count": 41,
     "metadata": {},
     "output_type": "execute_result"
    }
   ],
   "source": [
    "os.path.abspath('.')"
   ]
  },
  {
   "cell_type": "markdown",
   "metadata": {},
   "source": [
    "## os.mkdir()\n",
    "\n",
    "__Python__ может также создавать папки. Для этого используется функция `os.mkdir()`. В качестве аргумента она принимает название папки."
   ]
  },
  {
   "cell_type": "code",
   "execution_count": 24,
   "metadata": {
    "collapsed": false
   },
   "outputs": [
    {
     "name": "stdout",
     "output_type": "stream",
     "text": [
      "before ['2017.04.10 Работа с файлами и папками.ipynb', '2017.04.03 Повторение, comprehensions, format.ipynb', '1_Лекция_Лингвистические электронные ресурсы.pdf', '.ipynb_checkpoints', 'corpus_freq.xlsx', 'texts', 'Regex.pdf']\n",
      "\n",
      "after ['2017.04.10 Работа с файлами и папками.ipynb', '2017.04.03 Повторение, comprehensions, format.ipynb', '1_Лекция_Лингвистические электронные ресурсы.pdf', 'new_folder', '.ipynb_checkpoints', 'corpus_freq.xlsx', 'texts', 'Regex.pdf']\n"
     ]
    }
   ],
   "source": [
    "print('before', os.listdir('.'))\n",
    "os.mkdir('new_folder')\n",
    "print('\\nafter', os.listdir('.'))"
   ]
  },
  {
   "cell_type": "markdown",
   "metadata": {},
   "source": [
    "Если попытаться создать папку, которая уже существует, программа выдаст ошибку. Но можно заранее проверять, существует ли такая папка."
   ]
  },
  {
   "cell_type": "code",
   "execution_count": 27,
   "metadata": {
    "collapsed": false
   },
   "outputs": [
    {
     "data": {
      "text/plain": [
       "True"
      ]
     },
     "execution_count": 27,
     "metadata": {},
     "output_type": "execute_result"
    }
   ],
   "source": [
    "os.path.exists('new_folder')"
   ]
  },
  {
   "cell_type": "markdown",
   "metadata": {},
   "source": [
    "Если папки не существует, можно тут же её и создать:"
   ]
  },
  {
   "cell_type": "code",
   "execution_count": 28,
   "metadata": {
    "collapsed": true
   },
   "outputs": [],
   "source": [
    "if not os.path.exists('new_folder2'):\n",
    "    os.mkdir('new_folder2')"
   ]
  },
  {
   "cell_type": "markdown",
   "metadata": {},
   "source": [
    "Возможно также создавать не одну папку, а целых несколько вместе, если нам нужны вложенные друг в друга папки. Для этого используется функция `os.makedirs()`."
   ]
  },
  {
   "cell_type": "code",
   "execution_count": 42,
   "metadata": {
    "collapsed": true
   },
   "outputs": [],
   "source": [
    "path = 'a/long/long/long/path'\n",
    "os.makedirs(path)"
   ]
  },
  {
   "cell_type": "markdown",
   "metadata": {},
   "source": [
    "## shutil.copy(), shutil.move(), os.rename()\n",
    "\n",
    "Окей, с папками вроде умеем работать. А что с файлами?\n",
    "\n",
    "Файлы можно копировать и перемещать. Для этого используется уже другой модуль, модуль со смешным названием - shutil. В нем нам нужны функции `copy()` и `move()`. Аргументы у этих функций одинаковые:\n",
    "* источник (*source*), или путь к файлу, который надо переместить/скопировать\n",
    "* назначение (*destination*), или путь к папке, в которую файл надо переместить\n",
    "\n",
    "Давайте скопируем файлы из папки `texts` в папку `new_texts`, предварительно создав такую папку."
   ]
  },
  {
   "cell_type": "code",
   "execution_count": 38,
   "metadata": {
    "collapsed": false
   },
   "outputs": [],
   "source": [
    "import shutil\n",
    "if not os.path.exists('new_texts'):\n",
    "    os.mkdir('new_texts')\n",
    "for f in os.listdir('texts'):\n",
    "    shutil.copy(os.path.join('texts', f), 'new_texts')"
   ]
  },
  {
   "cell_type": "markdown",
   "metadata": {},
   "source": [
    "Если попытаться переместить файлы в папку, где они уже существуют, то возникнет ошибка. Избежать её можно при помощи все той же функции `os.path.exists()`."
   ]
  },
  {
   "cell_type": "code",
   "execution_count": 45,
   "metadata": {
    "collapsed": false
   },
   "outputs": [
    {
     "ename": "Error",
     "evalue": "Destination path 'new_texts/1.txt' already exists",
     "output_type": "error",
     "traceback": [
      "\u001b[0;31m---------------------------------------------------------------------------\u001b[0m",
      "\u001b[0;31mError\u001b[0m                                     Traceback (most recent call last)",
      "\u001b[0;32m<ipython-input-45-c2d1f330af2a>\u001b[0m in \u001b[0;36m<module>\u001b[0;34m()\u001b[0m\n\u001b[1;32m      1\u001b[0m \u001b[0;32mfor\u001b[0m \u001b[0mf\u001b[0m \u001b[0;32min\u001b[0m \u001b[0mos\u001b[0m\u001b[0;34m.\u001b[0m\u001b[0mlistdir\u001b[0m\u001b[0;34m(\u001b[0m\u001b[0;34m'texts'\u001b[0m\u001b[0;34m)\u001b[0m\u001b[0;34m:\u001b[0m\u001b[0;34m\u001b[0m\u001b[0m\n\u001b[0;32m----> 2\u001b[0;31m     \u001b[0mshutil\u001b[0m\u001b[0;34m.\u001b[0m\u001b[0mmove\u001b[0m\u001b[0;34m(\u001b[0m\u001b[0mos\u001b[0m\u001b[0;34m.\u001b[0m\u001b[0mpath\u001b[0m\u001b[0;34m.\u001b[0m\u001b[0mjoin\u001b[0m\u001b[0;34m(\u001b[0m\u001b[0;34m'texts'\u001b[0m\u001b[0;34m,\u001b[0m \u001b[0mf\u001b[0m\u001b[0;34m)\u001b[0m\u001b[0;34m,\u001b[0m \u001b[0;34m'new_texts'\u001b[0m\u001b[0;34m)\u001b[0m\u001b[0;34m\u001b[0m\u001b[0m\n\u001b[0m",
      "\u001b[0;32m/usr/lib/python3.5/shutil.py\u001b[0m in \u001b[0;36mmove\u001b[0;34m(src, dst, copy_function)\u001b[0m\n\u001b[1;32m    534\u001b[0m         \u001b[0mreal_dst\u001b[0m \u001b[0;34m=\u001b[0m \u001b[0mos\u001b[0m\u001b[0;34m.\u001b[0m\u001b[0mpath\u001b[0m\u001b[0;34m.\u001b[0m\u001b[0mjoin\u001b[0m\u001b[0;34m(\u001b[0m\u001b[0mdst\u001b[0m\u001b[0;34m,\u001b[0m \u001b[0m_basename\u001b[0m\u001b[0;34m(\u001b[0m\u001b[0msrc\u001b[0m\u001b[0;34m)\u001b[0m\u001b[0;34m)\u001b[0m\u001b[0;34m\u001b[0m\u001b[0m\n\u001b[1;32m    535\u001b[0m         \u001b[0;32mif\u001b[0m \u001b[0mos\u001b[0m\u001b[0;34m.\u001b[0m\u001b[0mpath\u001b[0m\u001b[0;34m.\u001b[0m\u001b[0mexists\u001b[0m\u001b[0;34m(\u001b[0m\u001b[0mreal_dst\u001b[0m\u001b[0;34m)\u001b[0m\u001b[0;34m:\u001b[0m\u001b[0;34m\u001b[0m\u001b[0m\n\u001b[0;32m--> 536\u001b[0;31m             \u001b[0;32mraise\u001b[0m \u001b[0mError\u001b[0m\u001b[0;34m(\u001b[0m\u001b[0;34m\"Destination path '%s' already exists\"\u001b[0m \u001b[0;34m%\u001b[0m \u001b[0mreal_dst\u001b[0m\u001b[0;34m)\u001b[0m\u001b[0;34m\u001b[0m\u001b[0m\n\u001b[0m\u001b[1;32m    537\u001b[0m     \u001b[0;32mtry\u001b[0m\u001b[0;34m:\u001b[0m\u001b[0;34m\u001b[0m\u001b[0m\n\u001b[1;32m    538\u001b[0m         \u001b[0mos\u001b[0m\u001b[0;34m.\u001b[0m\u001b[0mrename\u001b[0m\u001b[0;34m(\u001b[0m\u001b[0msrc\u001b[0m\u001b[0;34m,\u001b[0m \u001b[0mreal_dst\u001b[0m\u001b[0;34m)\u001b[0m\u001b[0;34m\u001b[0m\u001b[0m\n",
      "\u001b[0;31mError\u001b[0m: Destination path 'new_texts/1.txt' already exists"
     ]
    }
   ],
   "source": [
    "for f in os.listdir('texts'):\n",
    "    shutil.move(os.path.join('texts', f), 'new_texts')"
   ]
  },
  {
   "cell_type": "markdown",
   "metadata": {},
   "source": [
    "Можно файлы никуда и не перемещать, а просто переименовать. Например, в папке texts я хочу добавить в начало имени каждого файла префикс `my`. Для этого используется функция `os.rename()`. Как и `shutil.copy()` и `shutil.move()`, эта функция принимает в качестве аргумента путь к файлу с первоначальным именем и путь к файлу с новым именем."
   ]
  },
  {
   "cell_type": "code",
   "execution_count": 46,
   "metadata": {
    "collapsed": false
   },
   "outputs": [
    {
     "data": {
      "text/plain": [
       "['my3.txt', 'my1.txt', 'my4.txt', 'my2.txt']"
      ]
     },
     "execution_count": 46,
     "metadata": {},
     "output_type": "execute_result"
    }
   ],
   "source": [
    "for f in os.listdir('texts'):\n",
    "    os.rename(os.path.join('texts', f), os.path.join('texts', 'my' + f))\n",
    "os.listdir('texts')"
   ]
  },
  {
   "cell_type": "markdown",
   "metadata": {},
   "source": [
    "## os.path.isdir() и os.path.isfile()"
   ]
  },
  {
   "cell_type": "markdown",
   "metadata": {},
   "source": [
    "С помощью питона можно также узнавать, заданный путь - это путь к папке или файлу? Для этого используются функции `os.isdir()` и `os.isfile()`. Они принимают на вход путь, а возвращают `True` или `False`."
   ]
  },
  {
   "cell_type": "code",
   "execution_count": 51,
   "metadata": {
    "collapsed": false
   },
   "outputs": [
    {
     "data": {
      "text/plain": [
       "True"
      ]
     },
     "execution_count": 51,
     "metadata": {},
     "output_type": "execute_result"
    }
   ],
   "source": [
    "# texts - это папка?\n",
    "os.path.isdir('texts')"
   ]
  },
  {
   "cell_type": "code",
   "execution_count": 52,
   "metadata": {
    "collapsed": false
   },
   "outputs": [
    {
     "data": {
      "text/plain": [
       "False"
      ]
     },
     "execution_count": 52,
     "metadata": {},
     "output_type": "execute_result"
    }
   ],
   "source": [
    "# А new_texts - то файл?\n",
    "os.path.isfile('new_texts')"
   ]
  },
  {
   "cell_type": "markdown",
   "metadata": {},
   "source": [
    "## os.remove(), os.rmdir() и shutil.rmtree()\n",
    "\n",
    "Ну и конечно же, с помощью питона можно удалять отдельные файлы и целые папки. С помощью `os.rmdir()` можно удалить только пустую папку, а чтобы рекурсивно удалить непустую папку, нужна функция `rmtree()` из модуля `shutil`. Используйте новое знание с осторожностью!"
   ]
  },
  {
   "cell_type": "code",
   "execution_count": 55,
   "metadata": {
    "collapsed": false
   },
   "outputs": [],
   "source": [
    "# Удалим файлы в папке texts\n",
    "for f in os.listdir('texts'):\n",
    "    if os.path.isfile(f):\n",
    "        os.remove(os.path.join('texts'), f)"
   ]
  },
  {
   "cell_type": "code",
   "execution_count": 59,
   "metadata": {
    "collapsed": false
   },
   "outputs": [],
   "source": [
    "# а теперь удалим все папки, которые мы насоздавали в процессе работы\n",
    "for f in os.listdir():\n",
    "    if os.path.isdir(f):\n",
    "        shutil.rmtree(f)"
   ]
  },
  {
   "cell_type": "markdown",
   "metadata": {},
   "source": [
    "# Задания\n",
    "\n",
    "1. Пользователь вводит предложение на английском языке, и программа создает вложенные друг в друга папки, так чтобы путь к самой глубокой из них составлял введенное предложение. Например, если пользователь ввел предложение \"It is a wonderful day\", программа должна создать вложенные папки, и путь к последней из них должен быть \"it/is/a/wonderful/day\"\n",
    "2. Пользователь вводит число, например, 3. Нужно создать количество папок в соответствии с введенным числом. В нашем случае это три папки, которые должны называться \"1\", \"2\", \"3\". В первой папке нужно создать один текстовый файл, во второй два файла, в третьей - три файла и т.д.\n",
    "3. Распечатать названия всех объектов в текущей папке, которые являются папками, а не файлами.\n",
    "4. Распечатать, сколько в заданной папке (например, в текущей) файлов с различными расширениями, например:\n",
    "        txt        3\n",
    "        csv        1\n",
    "        xls        8\n",
    "5. С помощью программы заглянуть во все папки по заданному пути и напечатать, в какой из них лежит больше всего файлов.\n",
    "6. Открыть и прочитать все файлы с расширением .txt в заданной папке. Распечатать, сколько в них всего слов (можно просто делить по пробелам)."
   ]
  },
  {
   "cell_type": "code",
   "execution_count": null,
   "metadata": {
    "collapsed": true
   },
   "outputs": [],
   "source": []
  }
 ],
 "metadata": {
  "kernelspec": {
   "display_name": "Python 3",
   "language": "python",
   "name": "python3"
  },
  "language_info": {
   "codemirror_mode": {
    "name": "ipython",
    "version": 3
   },
   "file_extension": ".py",
   "mimetype": "text/x-python",
   "name": "python",
   "nbconvert_exporter": "python",
   "pygments_lexer": "ipython3",
   "version": "3.4.3"
  }
 },
 "nbformat": 4,
 "nbformat_minor": 2
}
