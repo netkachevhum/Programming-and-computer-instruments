{
 "cells": [
  {
   "cell_type": "markdown",
   "metadata": {},
   "source": [
    "# 03.04.2017 \n",
    "# Повторение\n",
    "\n",
    "Что мы уже проходили:\n",
    "* питон умеет работать как калькулятор"
   ]
  },
  {
   "cell_type": "code",
   "execution_count": 1,
   "metadata": {
    "collapsed": false
   },
   "outputs": [
    {
     "data": {
      "text/plain": [
       "15"
      ]
     },
     "execution_count": 1,
     "metadata": {},
     "output_type": "execute_result"
    }
   ],
   "source": [
    "9 + 6"
   ]
  },
  {
   "cell_type": "markdown",
   "metadata": {},
   "source": [
    "* переменные\n",
    "* инструкции if, elif, else\n",
    "* циклы for и while\n",
    "* массивы"
   ]
  },
  {
   "cell_type": "code",
   "execution_count": 2,
   "metadata": {
    "collapsed": false
   },
   "outputs": [],
   "source": [
    "name = 'Hugo'"
   ]
  },
  {
   "cell_type": "code",
   "execution_count": 3,
   "metadata": {
    "collapsed": false
   },
   "outputs": [
    {
     "name": "stdout",
     "output_type": "stream",
     "text": [
      "1\n",
      "2\n",
      "3\n",
      "4\n",
      "5\n",
      "6\n"
     ]
    }
   ],
   "source": [
    "arr = [1,2,3,4,5,6]\n",
    "for i in arr:\n",
    "    print(i)"
   ]
  },
  {
   "cell_type": "code",
   "execution_count": 4,
   "metadata": {
    "collapsed": false
   },
   "outputs": [
    {
     "data": {
      "text/plain": [
       "[1, 2]"
      ]
     },
     "execution_count": 4,
     "metadata": {},
     "output_type": "execute_result"
    }
   ],
   "source": [
    "arr[:2]"
   ]
  },
  {
   "cell_type": "markdown",
   "metadata": {},
   "source": [
    "* функции\n",
    "* словари\n",
    "* регулярные выражения"
   ]
  },
  {
   "cell_type": "code",
   "execution_count": 5,
   "metadata": {
    "collapsed": false
   },
   "outputs": [
    {
     "data": {
      "text/plain": [
       "12"
      ]
     },
     "execution_count": 5,
     "metadata": {},
     "output_type": "execute_result"
    }
   ],
   "source": [
    "def funcname(x, y, z):\n",
    "    return x + y + z\n",
    "\n",
    "funcname(3,4,5)"
   ]
  },
  {
   "cell_type": "code",
   "execution_count": 6,
   "metadata": {
    "collapsed": false
   },
   "outputs": [
    {
     "data": {
      "text/plain": [
       "'мяу'"
      ]
     },
     "execution_count": 6,
     "metadata": {},
     "output_type": "execute_result"
    }
   ],
   "source": [
    "d = {\"корова\": \"му\", \"собака\":\"гав\", \"кот\": \"мяу\"} \n",
    "d['кот']"
   ]
  },
  {
   "cell_type": "code",
   "execution_count": 7,
   "metadata": {
    "collapsed": false
   },
   "outputs": [
    {
     "data": {
      "text/plain": [
       "'Hello, World!'"
      ]
     },
     "execution_count": 7,
     "metadata": {},
     "output_type": "execute_result"
    }
   ],
   "source": [
    "import re\n",
    "regex = '<.*?>'\n",
    "text = '<p>Hello, World!</p>'\n",
    "\n",
    "re.sub(regex, '', text)"
   ]
  },
  {
   "cell_type": "markdown",
   "metadata": {},
   "source": [
    "# Comprehensions\n",
    "\n",
    "Довольно часто нам бывает нужно из одного набора данных (массива, строки, словаря) собрать какой-то другой набор данных. Обычно мы делаем это с помощью цикла `for`:"
   ]
  },
  {
   "cell_type": "code",
   "execution_count": 8,
   "metadata": {
    "collapsed": false
   },
   "outputs": [],
   "source": [
    "a = [1,2,3,4,5,66,7,8]"
   ]
  },
  {
   "cell_type": "code",
   "execution_count": 9,
   "metadata": {
    "collapsed": false
   },
   "outputs": [
    {
     "data": {
      "text/plain": [
       "[1, 4, 9, 16, 25, 4356, 49, 64]"
      ]
     },
     "execution_count": 9,
     "metadata": {},
     "output_type": "execute_result"
    }
   ],
   "source": [
    "# создать массив b с квадратами всех чисел из a\n",
    "b = []\n",
    "for i in a:\n",
    "    b.append(i**2)\n",
    "b"
   ]
  },
  {
   "cell_type": "markdown",
   "metadata": {},
   "source": [
    "Но есть и способ проще: то же самое можно написать и в одну строчку:"
   ]
  },
  {
   "cell_type": "code",
   "execution_count": 10,
   "metadata": {
    "collapsed": false
   },
   "outputs": [
    {
     "data": {
      "text/plain": [
       "[1, 4, 9, 16, 25, 4356, 49, 64]"
      ]
     },
     "execution_count": 10,
     "metadata": {},
     "output_type": "execute_result"
    }
   ],
   "source": [
    "# создать массив new_b с квадратами всех чисел из a\n",
    "new_b = [i**2 for i in a]\n",
    "new_b"
   ]
  },
  {
   "cell_type": "markdown",
   "metadata": {},
   "source": [
    "Похожий пример, но теперь массив слов, а не чисел:"
   ]
  },
  {
   "cell_type": "code",
   "execution_count": 11,
   "metadata": {
    "collapsed": false
   },
   "outputs": [],
   "source": [
    "words = ['Mary', 'John', 'Jake', 'Tim']"
   ]
  },
  {
   "cell_type": "code",
   "execution_count": 12,
   "metadata": {
    "collapsed": false
   },
   "outputs": [
    {
     "data": {
      "text/plain": [
       "['MARY', 'JOHN', 'JAKE', 'TIM']"
      ]
     },
     "execution_count": 12,
     "metadata": {},
     "output_type": "execute_result"
    }
   ],
   "source": [
    "# создать массив new_words со всеми словами из words, приведенными к верхнему регистру\n",
    "new_words = [w.upper() for w in words]\n",
    "new_words"
   ]
  },
  {
   "cell_type": "markdown",
   "metadata": {},
   "source": [
    "Выражения такого рода - когда мы генерируем новый массив в одну строчку из какого-то другого набора данных - называются `list comprehensions`. "
   ]
  },
  {
   "cell_type": "markdown",
   "metadata": {},
   "source": [
    "## Comprehensions и фильтры\n",
    "\n",
    "Довольно часто нам бывает нужно из одного набора данных (массива, строки, словаря) собрать какой-то другой набор данных и при этом еще и учесть какоето условие. Иными словами, нам нужно отфильтровать наши данные. Опять же, раньше мы с вами делали это с помощью цикла `for`:"
   ]
  },
  {
   "cell_type": "code",
   "execution_count": 13,
   "metadata": {
    "collapsed": false
   },
   "outputs": [
    {
     "data": {
      "text/plain": [
       "[4, 16, 64]"
      ]
     },
     "execution_count": 13,
     "metadata": {},
     "output_type": "execute_result"
    }
   ],
   "source": [
    "# создать массив b с квадратами тех чисел из a, которые кратны двум и меньше 10\n",
    "b = []\n",
    "for i in a:\n",
    "    if i < 10 and i % 2 == 0:\n",
    "        b.append(i**2)\n",
    "b"
   ]
  },
  {
   "cell_type": "markdown",
   "metadata": {},
   "source": [
    "Но питон позволяет написать и цикл `for` и все условия в одну строчку:"
   ]
  },
  {
   "cell_type": "code",
   "execution_count": 14,
   "metadata": {
    "collapsed": false
   },
   "outputs": [
    {
     "data": {
      "text/plain": [
       "[4, 16, 64]"
      ]
     },
     "execution_count": 14,
     "metadata": {},
     "output_type": "execute_result"
    }
   ],
   "source": [
    "# создать массив new_b с квадратами тех чисел из a, которые кратны двум и меньше 10\n",
    "new_b = [i**2 for i in a if i <10 and i % 2 == 0]\n",
    "new_b"
   ]
  },
  {
   "cell_type": "code",
   "execution_count": 15,
   "metadata": {
    "collapsed": false
   },
   "outputs": [
    {
     "data": {
      "text/plain": [
       "['Mary', 'John', 'Jake', 'Tim', 'Kate', 'Tom', 'Moses', 'Jesus']"
      ]
     },
     "execution_count": 15,
     "metadata": {},
     "output_type": "execute_result"
    }
   ],
   "source": [
    "words += ['Kate', 'Tom', 'Moses', 'Jesus']\n",
    "words"
   ]
  },
  {
   "cell_type": "code",
   "execution_count": 16,
   "metadata": {
    "collapsed": false
   },
   "outputs": [
    {
     "data": {
      "text/plain": [
       "['MARY', 'JOHN', 'JAKE', 'KATE', 'JESUS']"
      ]
     },
     "execution_count": 16,
     "metadata": {},
     "output_type": "execute_result"
    }
   ],
   "source": [
    "# создать массив other_words со всеми словами из words, приведенными к верхнему регистру\n",
    "# нужно взять только те слова, в которых есть буквы a, A, J или j\n",
    "other_words = [w.upper() for w in words if re.search('[aAjJ]', w)]\n",
    "other_words "
   ]
  },
  {
   "cell_type": "markdown",
   "metadata": {},
   "source": [
    "Можно задавать несколько условий, комбинируя их при помощи логических операторов."
   ]
  },
  {
   "cell_type": "code",
   "execution_count": 51,
   "metadata": {
    "collapsed": false
   },
   "outputs": [
    {
     "data": {
      "text/plain": [
       "['MARY', 'JOHN', 'JAKE', 'KATE']"
      ]
     },
     "execution_count": 51,
     "metadata": {},
     "output_type": "execute_result"
    }
   ],
   "source": [
    "other_words = [w.upper() for w in words if re.search('[aAjJ]', w) and len(w) == 4]\n",
    "other_words"
   ]
  },
  {
   "cell_type": "markdown",
   "metadata": {},
   "source": [
    "Также можно задавать различные методы обработки для элементов, удовлетворяющих различным условиям. Например, если мы нашли в имени символы A, a, J, j и длина имени больше 4, то мы приводим имя к верхнему регистру. Если эти условия не выполняются, то оставляем как есть."
   ]
  },
  {
   "cell_type": "code",
   "execution_count": 52,
   "metadata": {
    "collapsed": false
   },
   "outputs": [
    {
     "data": {
      "text/plain": [
       "['MARY', 'JOHN', 'JAKE', 'Tim', 'KATE', 'Tom', 'Moses', 'Jesus']"
      ]
     },
     "execution_count": 52,
     "metadata": {},
     "output_type": "execute_result"
    }
   ],
   "source": [
    "other_words = [w.upper() if re.search('[aAjJ]', w) and len(w) == 4 else w for w in words ]\n",
    "other_words"
   ]
  },
  {
   "cell_type": "markdown",
   "metadata": {},
   "source": [
    "Можно комбинировать фильтрацию и ветвление. Например, для массива чисел `a` мы хотим сначала отобрать те числа, которые меньше 10, а затем четные возвести в квадрат, а нечетные в куб."
   ]
  },
  {
   "cell_type": "code",
   "execution_count": 53,
   "metadata": {
    "collapsed": false
   },
   "outputs": [
    {
     "data": {
      "text/plain": [
       "[1, 4, 27, 16, 125, 343, 64]"
      ]
     },
     "execution_count": 53,
     "metadata": {},
     "output_type": "execute_result"
    }
   ],
   "source": [
    "new_a = [x**2 if x%2 == 0 else x**3 for x in a if x < 10]\n",
    "new_a"
   ]
  },
  {
   "cell_type": "markdown",
   "metadata": {},
   "source": [
    "## Dict Comprehension\n",
    "\n",
    "По аналогии с `list comprehensions` существуют еще и `dict comprehensions`: мы можем в одну строчку сгенерировать новый словарь из какого-то набора:"
   ]
  },
  {
   "cell_type": "code",
   "execution_count": 17,
   "metadata": {
    "collapsed": false
   },
   "outputs": [],
   "source": [
    "d = {\"корова\": \"му\", \"собака\":\"гав\", \"кот\": \"мяу\", \"утка\": \"кря\"} "
   ]
  },
  {
   "cell_type": "code",
   "execution_count": 18,
   "metadata": {
    "collapsed": false
   },
   "outputs": [
    {
     "data": {
      "text/plain": [
       "{'гав': 'собака', 'кря': 'утка', 'му': 'корова', 'мяу': 'кот'}"
      ]
     },
     "execution_count": 18,
     "metadata": {},
     "output_type": "execute_result"
    }
   ],
   "source": [
    "# словарь, ключами которого являются значения старого, а значениями - ключи старого\n",
    "sounds = {d[key]: key for key in d}\n",
    "sounds"
   ]
  },
  {
   "cell_type": "code",
   "execution_count": 19,
   "metadata": {
    "collapsed": false
   },
   "outputs": [
    {
     "data": {
      "text/plain": [
       "{'гав': 'собака', 'му': 'корова'}"
      ]
     },
     "execution_count": 19,
     "metadata": {},
     "output_type": "execute_result"
    }
   ],
   "source": [
    "# то же самое, только с фильтром\n",
    "sounds = {d[key]: key for key in d if len(key) > 4}\n",
    "sounds"
   ]
  },
  {
   "cell_type": "markdown",
   "metadata": {},
   "source": [
    "## Массив массивов\n",
    "\n",
    "С помощью `list comprehension` можно в одной строчке совместить два цикла. Например, перед нами стоит задача превратить массив массивов в плоский массив:"
   ]
  },
  {
   "cell_type": "code",
   "execution_count": 20,
   "metadata": {
    "collapsed": false
   },
   "outputs": [
    {
     "data": {
      "text/plain": [
       "[[1, 2, 3, 4, 5, 66, 7, 8],\n",
       " [4, 16, 64],\n",
       " ['Mary', 'John', 'Jake', 'Tim', 'Kate', 'Tom', 'Moses', 'Jesus']]"
      ]
     },
     "execution_count": 20,
     "metadata": {},
     "output_type": "execute_result"
    }
   ],
   "source": [
    "BIG = [a, new_b, words]\n",
    "BIG"
   ]
  },
  {
   "cell_type": "code",
   "execution_count": 21,
   "metadata": {
    "collapsed": false
   },
   "outputs": [],
   "source": [
    "flat = []\n",
    "for arr in BIG:\n",
    "    for item in arr:\n",
    "        flat.append(item)"
   ]
  },
  {
   "cell_type": "code",
   "execution_count": 22,
   "metadata": {
    "collapsed": false
   },
   "outputs": [
    {
     "data": {
      "text/plain": [
       "[1,\n",
       " 2,\n",
       " 3,\n",
       " 4,\n",
       " 5,\n",
       " 66,\n",
       " 7,\n",
       " 8,\n",
       " 4,\n",
       " 16,\n",
       " 64,\n",
       " 'Mary',\n",
       " 'John',\n",
       " 'Jake',\n",
       " 'Tim',\n",
       " 'Kate',\n",
       " 'Tom',\n",
       " 'Moses',\n",
       " 'Jesus']"
      ]
     },
     "execution_count": 22,
     "metadata": {},
     "output_type": "execute_result"
    }
   ],
   "source": [
    "flat"
   ]
  },
  {
   "cell_type": "code",
   "execution_count": 23,
   "metadata": {
    "collapsed": false
   },
   "outputs": [
    {
     "data": {
      "text/plain": [
       "[1,\n",
       " 2,\n",
       " 3,\n",
       " 4,\n",
       " 5,\n",
       " 66,\n",
       " 7,\n",
       " 8,\n",
       " 4,\n",
       " 16,\n",
       " 64,\n",
       " 'Mary',\n",
       " 'John',\n",
       " 'Jake',\n",
       " 'Tim',\n",
       " 'Kate',\n",
       " 'Tom',\n",
       " 'Moses',\n",
       " 'Jesus']"
      ]
     },
     "execution_count": 23,
     "metadata": {},
     "output_type": "execute_result"
    }
   ],
   "source": [
    "flat = [item for arr in BIG for item in arr]\n",
    "flat"
   ]
  },
  {
   "cell_type": "markdown",
   "metadata": {},
   "source": [
    "# Форматирование строк\n",
    "\n",
    "Вспомним, какие функции для форматирования строк мы уже знаем:"
   ]
  },
  {
   "cell_type": "code",
   "execution_count": 24,
   "metadata": {
    "collapsed": false
   },
   "outputs": [],
   "source": [
    "s = 'Hello, world! That\\'s all folks!'"
   ]
  },
  {
   "cell_type": "code",
   "execution_count": 25,
   "metadata": {
    "collapsed": false
   },
   "outputs": [
    {
     "data": {
      "text/plain": [
       "\"HELLO, WORLD! THAT'S ALL FOLKS!\""
      ]
     },
     "execution_count": 25,
     "metadata": {},
     "output_type": "execute_result"
    }
   ],
   "source": [
    "s.upper()"
   ]
  },
  {
   "cell_type": "code",
   "execution_count": 26,
   "metadata": {
    "collapsed": false
   },
   "outputs": [
    {
     "data": {
      "text/plain": [
       "\"hello, world! that's all folks!\""
      ]
     },
     "execution_count": 26,
     "metadata": {},
     "output_type": "execute_result"
    }
   ],
   "source": [
    "s.lower()"
   ]
  },
  {
   "cell_type": "markdown",
   "metadata": {},
   "source": [
    "Обратим внимание на функции `capitalize` (первый символ приводится к верхнему регистру, *все* остальные -- к нижнему)  и `title` (первый символ каждого слова в строке приводится к верхнему регистру, а остальные к нижнему):"
   ]
  },
  {
   "cell_type": "code",
   "execution_count": 27,
   "metadata": {
    "collapsed": false
   },
   "outputs": [
    {
     "data": {
      "text/plain": [
       "\"Hello, world! that's all folks!\""
      ]
     },
     "execution_count": 27,
     "metadata": {},
     "output_type": "execute_result"
    }
   ],
   "source": [
    "s.capitalize()"
   ]
  },
  {
   "cell_type": "code",
   "execution_count": 28,
   "metadata": {
    "collapsed": false
   },
   "outputs": [
    {
     "data": {
      "text/plain": [
       "\"Hello, World! That'S All Folks!\""
      ]
     },
     "execution_count": 28,
     "metadata": {},
     "output_type": "execute_result"
    }
   ],
   "source": [
    "s.title()"
   ]
  },
  {
   "cell_type": "markdown",
   "metadata": {},
   "source": [
    "## format: шаблоны\n",
    "Для форматирования строк в питоне существует довольшо мощная функция под названием `format`. У нее очень широкие возможности и варианты применения. \n",
    "\n",
    "Например, мы можем создать строку с шаблоном, в котором место пропуска обозначается `{}`. А затем с помощью `format` в этот пропуск мы можем подставлять значения:"
   ]
  },
  {
   "cell_type": "code",
   "execution_count": 29,
   "metadata": {
    "collapsed": false
   },
   "outputs": [
    {
     "data": {
      "text/plain": [
       "'Hello, John!'"
      ]
     },
     "execution_count": 29,
     "metadata": {},
     "output_type": "execute_result"
    }
   ],
   "source": [
    "template = 'Hello, {}!'\n",
    "template.format('John')"
   ]
  },
  {
   "cell_type": "code",
   "execution_count": 30,
   "metadata": {
    "collapsed": false
   },
   "outputs": [
    {
     "data": {
      "text/plain": [
       "'Hello, Mary!'"
      ]
     },
     "execution_count": 30,
     "metadata": {},
     "output_type": "execute_result"
    }
   ],
   "source": [
    "name = 'Mary'\n",
    "template.format(name)"
   ]
  },
  {
   "cell_type": "code",
   "execution_count": 31,
   "metadata": {
    "collapsed": false
   },
   "outputs": [
    {
     "name": "stdout",
     "output_type": "stream",
     "text": [
      "Введите имя: Tim\n"
     ]
    },
    {
     "data": {
      "text/plain": [
       "'Hello, Tim!'"
      ]
     },
     "execution_count": 31,
     "metadata": {},
     "output_type": "execute_result"
    }
   ],
   "source": [
    "template.format(input('Введите имя: '))\n"
   ]
  },
  {
   "cell_type": "markdown",
   "metadata": {},
   "source": [
    "Значений может быть несколько:"
   ]
  },
  {
   "cell_type": "code",
   "execution_count": 32,
   "metadata": {
    "collapsed": false
   },
   "outputs": [
    {
     "data": {
      "text/plain": [
       "'Привет, Петя Иванов!'"
      ]
     },
     "execution_count": 32,
     "metadata": {},
     "output_type": "execute_result"
    }
   ],
   "source": [
    "'Привет, {} {}!'.format('Петя', 'Иванов')"
   ]
  },
  {
   "cell_type": "markdown",
   "metadata": {},
   "source": [
    "Причем __обязательно__ количество значений, которое мы передаем в `format` должно быть больше или равно количеству `{}` в шаблоне. Если меньше, то программа ломается:"
   ]
  },
  {
   "cell_type": "code",
   "execution_count": 33,
   "metadata": {
    "collapsed": false
   },
   "outputs": [
    {
     "ename": "IndexError",
     "evalue": "tuple index out of range",
     "output_type": "error",
     "traceback": [
      "\u001b[0;31m---------------------------------------------------------------------------\u001b[0m",
      "\u001b[0;31mIndexError\u001b[0m                                Traceback (most recent call last)",
      "\u001b[0;32m<ipython-input-33-6c8ab48d0c89>\u001b[0m in \u001b[0;36m<module>\u001b[0;34m()\u001b[0m\n\u001b[0;32m----> 1\u001b[0;31m \u001b[0;34m'Привет, {} {}!'\u001b[0m\u001b[0;34m.\u001b[0m\u001b[0mformat\u001b[0m\u001b[0;34m(\u001b[0m\u001b[0;34m'Петя'\u001b[0m\u001b[0;34m)\u001b[0m\u001b[0;34m\u001b[0m\u001b[0m\n\u001b[0m",
      "\u001b[0;31mIndexError\u001b[0m: tuple index out of range"
     ]
    }
   ],
   "source": [
    "'Привет, {} {}!'.format('Петя')"
   ]
  },
  {
   "cell_type": "markdown",
   "metadata": {},
   "source": [
    "Все элементы, которые мы передаем в `format` нумеруются, начиная с 0. Эти номера можно использовать в самом шаблоне, чтобы указать, какой именно элемент нужно вставить в данный пропуск:"
   ]
  },
  {
   "cell_type": "code",
   "execution_count": 34,
   "metadata": {
    "collapsed": false
   },
   "outputs": [
    {
     "data": {
      "text/plain": [
       "'Привет, Иванов Петя!'"
      ]
     },
     "execution_count": 34,
     "metadata": {},
     "output_type": "execute_result"
    }
   ],
   "source": [
    "'Привет, {1} {0}!'.format('Петя', 'Иванов')"
   ]
  },
  {
   "cell_type": "code",
   "execution_count": 35,
   "metadata": {
    "collapsed": false
   },
   "outputs": [
    {
     "data": {
      "text/plain": [
       "'Привет, Иванов Петя! Вы, Петя, наш самый ценный клиент! Только вам, Петя Иванов, и только сегодня мы предлагаем шкурку от банана совершенно бесплатно!'"
      ]
     },
     "execution_count": 35,
     "metadata": {},
     "output_type": "execute_result"
    }
   ],
   "source": [
    "'Привет, {1} {0}! Вы, {0}, наш самый ценный клиент! Только вам, {0} {1}, и только сегодня мы предлагаем шкурку от банана совершенно бесплатно!'.format('Петя', 'Иванов')"
   ]
  },
  {
   "cell_type": "markdown",
   "metadata": {},
   "source": [
    "## format: выравнивание и количество символов\n",
    "\n",
    "Функция `format` позволяет указать в шаблоне как именно будет выглядеть то, что мы в него вставляем.\n",
    "\n",
    "Например, мы хотим распечатать таблицу с числами и хотим, чтобы все числа были выровнены справа. Для этого в шаблоне внутри `{}` мы пишем двоеточие, после двоеточия можно указать выравнивание (`>` - справа, `<` - слева, `^` - по центру), затем целое число - это __минимальная__ длина окна, которое занимает наш шаблон."
   ]
  },
  {
   "cell_type": "code",
   "execution_count": 41,
   "metadata": {
    "collapsed": false
   },
   "outputs": [
    {
     "name": "stdout",
     "output_type": "stream",
     "text": [
      "Возраст:         21\n",
      "Возраст:         45\n",
      "Возраст:        100\n",
      "Возраст:          4\n",
      "Возраст:          4\n",
      "Возраст:          3\n",
      "Возраст:         87\n"
     ]
    }
   ],
   "source": [
    "arr = [21, 45, 100, 4, 4, 3, 87]\n",
    "template = 'Возраст: {:>10}'\n",
    "for i in arr:\n",
    "    print(template.format(i))"
   ]
  },
  {
   "cell_type": "markdown",
   "metadata": {},
   "source": [
    "После двоеточия перед выравниванием можно указать символ, который будет использоваться для заполнения окна. По умолчанию используется пробел. Ниже примеры со знаком `+` и разным выравниванием:"
   ]
  },
  {
   "cell_type": "code",
   "execution_count": 42,
   "metadata": {
    "collapsed": false
   },
   "outputs": [
    {
     "data": {
      "text/plain": [
       "'++++++text'"
      ]
     },
     "execution_count": 42,
     "metadata": {},
     "output_type": "execute_result"
    }
   ],
   "source": [
    "'{:+>10}'.format('text')"
   ]
  },
  {
   "cell_type": "code",
   "execution_count": 43,
   "metadata": {
    "collapsed": false
   },
   "outputs": [
    {
     "data": {
      "text/plain": [
       "'+++text+++'"
      ]
     },
     "execution_count": 43,
     "metadata": {},
     "output_type": "execute_result"
    }
   ],
   "source": [
    "'{:+^10}'.format('text')"
   ]
  },
  {
   "cell_type": "code",
   "execution_count": 44,
   "metadata": {
    "collapsed": false
   },
   "outputs": [
    {
     "data": {
      "text/plain": [
       "'text++++++'"
      ]
     },
     "execution_count": 44,
     "metadata": {},
     "output_type": "execute_result"
    }
   ],
   "source": [
    "'{:+<10}'.format('text')"
   ]
  },
  {
   "cell_type": "markdown",
   "metadata": {},
   "source": [
    "Кроме того, мы можем указать максимальную длину, которую может занимать форматируемая строка. Например, если мы форматируем дробное число, это можно сделать так:"
   ]
  },
  {
   "cell_type": "code",
   "execution_count": 45,
   "metadata": {
    "collapsed": false
   },
   "outputs": [
    {
     "data": {
      "text/plain": [
       "'Ваше число 3.14'"
      ]
     },
     "execution_count": 45,
     "metadata": {},
     "output_type": "execute_result"
    }
   ],
   "source": [
    "pi = 3.14159265358979323\n",
    "'Ваше число {:.2f}'.format(pi)  # .2f значит - оставить в десятичном числе два знака после точки"
   ]
  },
  {
   "cell_type": "code",
   "execution_count": 46,
   "metadata": {
    "collapsed": false
   },
   "outputs": [
    {
     "data": {
      "text/plain": [
       "'Ваше число 3.1'"
      ]
     },
     "execution_count": 46,
     "metadata": {},
     "output_type": "execute_result"
    }
   ],
   "source": [
    "'Ваше число {:.2}'.format(pi)"
   ]
  },
  {
   "cell_type": "markdown",
   "metadata": {},
   "source": [
    "Точку можно использовать, чтобы обрезать строки. Например:"
   ]
  },
  {
   "cell_type": "code",
   "execution_count": 47,
   "metadata": {
    "collapsed": false
   },
   "outputs": [
    {
     "data": {
      "text/plain": [
       "'эйяфл'"
      ]
     },
     "execution_count": 47,
     "metadata": {},
     "output_type": "execute_result"
    }
   ],
   "source": [
    "'{:.5}'.format('эйяфладлайокудль')  # .5 значит - оставить в строке первые пять символов"
   ]
  },
  {
   "cell_type": "markdown",
   "metadata": {},
   "source": [
    "Попробуем совместить все вместе. Распечатаем слово \"эйяфладлайокудль\", при этом:\n",
    "- `.5` - оставим от него только первые 5 символов\n",
    "- `10` - вставим полученный результат в окно длины 10\n",
    "- `^ ` - выровним результат по центру\n",
    "- `+ ` - заполним пустое пространство знаком +"
   ]
  },
  {
   "cell_type": "code",
   "execution_count": 50,
   "metadata": {
    "collapsed": false
   },
   "outputs": [
    {
     "data": {
      "text/plain": [
       "'++эйяфл+++'"
      ]
     },
     "execution_count": 50,
     "metadata": {},
     "output_type": "execute_result"
    }
   ],
   "source": [
    "'{:+^10.5}'.format('эйяфладлайокудль')"
   ]
  },
  {
   "cell_type": "markdown",
   "metadata": {},
   "source": [
    "### Более подробно про разные способы форматирования в питоне описано на сайте https://pyformat.info/."
   ]
  },
  {
   "cell_type": "markdown",
   "metadata": {},
   "source": [
    "# Задания на семинаре\n",
    "1) Функция `align_right(words)`, которая получает на вход массив слов и распечатывает их в столбик выровненными справа.\n",
    "\n",
    "2) Функция `tokenize(text)`, которая получает на вход текст (предложение) и возвращает массив токенов (в нижнем регистре, с обрезанными знаками препинания). Нужно использовать `list comprehension`.\n",
    "\n",
    "3) Функция `tabulate(arr)`, которая получает на вход массив кортежей из трех элементов и распечатывает их в виде таблицы. \n",
    "\n",
    "`[(нет, восемь, один), (да, тридцать, шесть)]`  -->"
   ]
  },
  {
   "cell_type": "raw",
   "metadata": {},
   "source": [
    "нет  восемь   один\n",
    "да   тридцать шесть"
   ]
  }
 ],
 "metadata": {
  "kernelspec": {
   "display_name": "Python 3",
   "language": "python",
   "name": "python3"
  },
  "language_info": {
   "codemirror_mode": {
    "name": "ipython",
    "version": 3
   },
   "file_extension": ".py",
   "mimetype": "text/x-python",
   "name": "python",
   "nbconvert_exporter": "python",
   "pygments_lexer": "ipython3",
   "version": "3.5.2"
  }
 },
 "nbformat": 4,
 "nbformat_minor": 0
}
