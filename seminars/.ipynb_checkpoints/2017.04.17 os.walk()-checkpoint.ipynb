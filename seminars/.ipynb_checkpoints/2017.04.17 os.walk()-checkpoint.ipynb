{
 "cells": [
  {
   "cell_type": "markdown",
   "metadata": {},
   "source": [
    "# Хождение по ~~мукам~~ папкам\n",
    "\n",
    "Давайте вспомним функцию `os.listdir()`, которую мы узнали на прошлом занятии. Можно вывести список файлов в текущей папке:"
   ]
  },
  {
   "cell_type": "code",
   "execution_count": 2,
   "metadata": {
    "collapsed": false
   },
   "outputs": [
    {
     "data": {
      "text/plain": [
       "['2017.04.10 Работа с файлами и папками.ipynb',\n",
       " '2017.04.03 Повторение, comprehensions, format.ipynb',\n",
       " '1_Лекция_Лингвистические электронные ресурсы.pdf',\n",
       " '2017.04.17 os.walk().ipynb',\n",
       " '.ipynb_checkpoints',\n",
       " 'create_dirs_in_loop.py',\n",
       " 'corpus_freq.xlsx',\n",
       " 'Regex.pdf']"
      ]
     },
     "execution_count": 2,
     "metadata": {},
     "output_type": "execute_result"
    }
   ],
   "source": [
    "import os\n",
    "os.listdir('.')"
   ]
  },
  {
   "cell_type": "markdown",
   "metadata": {},
   "source": [
    "Можно вывести список файлов в папке уровнем выше:"
   ]
  },
  {
   "cell_type": "code",
   "execution_count": 3,
   "metadata": {
    "collapsed": false
   },
   "outputs": [
    {
     "data": {
      "text/plain": [
       "['kili.zip',\n",
       " 'hw_repos',\n",
       " 'spoken.txt',\n",
       " 'tihiyd.txt',\n",
       " 'KILI_nu.xlsx',\n",
       " 'original',\n",
       " 'ann2rnc_git.py~',\n",
       " 'repositories Github (Responses).ods',\n",
       " 'lat_rus.txt',\n",
       " 'Google-Spreadsheets-basic.md',\n",
       " 'example_repo',\n",
       " 'about_life_stressed.2.txt',\n",
       " 'скрины - гуглтаблицы',\n",
       " 'transcripts',\n",
       " 'prog_grades.ods',\n",
       " 'sample_video_transcript.2.txt',\n",
       " 'rnc',\n",
       " 'brat2rnc',\n",
       " 'КИЛИ и программирование.pdf',\n",
       " 'stressed',\n",
       " 'на бумажке.docx',\n",
       " 'google-spreadsheets images',\n",
       " 'sample_ana.txt',\n",
       " 'output.txt',\n",
       " 'prog_grades.xlsx',\n",
       " 'repetition.txt',\n",
       " 'raw_texts',\n",
       " 'news.txt',\n",
       " 'rur.txt',\n",
       " 'example_webpage.html',\n",
       " 'speakers',\n",
       " 'Vojna i mir. Tom 1.txt',\n",
       " '20160905_Компьютерные группы - 1 курс.xlsx',\n",
       " 'README.md',\n",
       " 'seminars',\n",
       " '.git',\n",
       " 'sample_speakers.txt',\n",
       " 'images',\n",
       " 'corpus-xml-example.txt']"
      ]
     },
     "execution_count": 3,
     "metadata": {},
     "output_type": "execute_result"
    }
   ],
   "source": [
    "os.listdir('..')"
   ]
  },
  {
   "cell_type": "markdown",
   "metadata": {},
   "source": [
    "В домашнем задании многие интересовались, нужно ли уметь заходить в папки и смотреть, какие файлы в них лежат. На самом деле, с питоном сделать это очень легко. Для этого используется другая функция, которая называется `os.walk()`. Как следует из её названия, она умееет \"гулять по папкам\"."
   ]
  },
  {
   "cell_type": "code",
   "execution_count": 4,
   "metadata": {
    "collapsed": false
   },
   "outputs": [
    {
     "data": {
      "text/plain": [
       "<generator object walk at 0x7f86d803d830>"
      ]
     },
     "execution_count": 4,
     "metadata": {},
     "output_type": "execute_result"
    }
   ],
   "source": [
    "file_tree = os.walk('.')\n",
    "file_tree"
   ]
  },
  {
   "cell_type": "markdown",
   "metadata": {},
   "source": [
    "Эта функция устроена немного сложнее, чем те функции, с которыми мы работали раньше. Она возвращает пользователю целых три объекта -- `root, dirs и files`. В переменной `root` лежит путь к текущей папке, в переменной `dirs` лежат все папки, лежащие в текущей папке, а в переменной `files` лежат все файлы в текущей папке. \n",
    "\n",
    "Эту функцию нужно вызывать в цикле `for`, и тогда на каждом шаге цикла она будет переходить в новую папку, и переменные `root, dirs, files` будут модифицироваться соответствующим образом."
   ]
  },
  {
   "cell_type": "code",
   "execution_count": 5,
   "metadata": {
    "collapsed": false
   },
   "outputs": [
    {
     "name": "stdout",
     "output_type": "stream",
     "text": [
      "('.', ['.ipynb_checkpoints'], ['2017.04.10 Работа с файлами и папками.ipynb', '2017.04.03 Повторение, comprehensions, format.ipynb', '1_Лекция_Лингвистические электронные ресурсы.pdf', '2017.04.17 os.walk().ipynb', 'create_dirs_in_loop.py', 'corpus_freq.xlsx', 'Regex.pdf'])\n",
      "('./.ipynb_checkpoints', [], ['2017.04.17 os.walk()-checkpoint.ipynb', '2017.04.10 Работа с файлами и папками-checkpoint.ipynb'])\n"
     ]
    }
   ],
   "source": [
    "for d in file_tree:\n",
    "    print(d)"
   ]
  },
  {
   "cell_type": "markdown",
   "metadata": {},
   "source": [
    "Давайте напечатаем все возможные пути к папкам в текущей директории:"
   ]
  },
  {
   "cell_type": "code",
   "execution_count": 5,
   "metadata": {
    "collapsed": false
   },
   "outputs": [
    {
     "name": "stdout",
     "output_type": "stream",
     "text": [
      ".\n",
      "./.ipynb_checkpoints\n",
      "./BAWE\n",
      "./BAWE/documentation\n",
      "./BAWE/CORPUS_ASCII\n",
      "./BAWE/CORPUS_TXT\n",
      "./BAWE/CORPUS_UTF-8\n",
      "./top_folder\n"
     ]
    }
   ],
   "source": [
    "for root, dirs, files in os.walk('.'):\n",
    "    print(root)"
   ]
  },
  {
   "cell_type": "markdown",
   "metadata": {},
   "source": [
    "Видно, что в текущей папке есть папки `.ipynb_checkpoints`, `BAWE` и `top_folder`. В папке `BAWE` есть папки `documentation, CORPUS_ASCII, CORPUS_TXT и CORPUS_UTF-8`.\n",
    "\n",
    "Небольшое пояснение: BAWE расшифровывается как British Academic Written English, это корпус академических эссе, написанных в разных британских университетах.\n",
    "\n",
    "Теперь давайте напечатаем, сколько файлов (не папок!) лежит в каждой папке:"
   ]
  },
  {
   "cell_type": "code",
   "execution_count": 6,
   "metadata": {
    "collapsed": false
   },
   "outputs": [
    {
     "name": "stdout",
     "output_type": "stream",
     "text": [
      ".  ---  7\n",
      "./.ipynb_checkpoints  ---  2\n",
      "./BAWE  ---  0\n",
      "./BAWE/documentation  ---  3\n",
      "./BAWE/CORPUS_ASCII  ---  2762\n",
      "./BAWE/CORPUS_TXT  ---  2761\n",
      "./BAWE/CORPUS_UTF-8  ---  2762\n",
      "./top_folder  ---  0\n"
     ]
    }
   ],
   "source": [
    "for root, dirs, files in os.walk('.'):\n",
    "    print(root, len(files), sep='  ---  ')"
   ]
  },
  {
   "cell_type": "markdown",
   "metadata": {},
   "source": [
    "Ну и наконец, можно смотреть на разные файлы, лежащие в папках. Например, выяснять, есть ли файлы с именем длиной больше 10 (не учитывая расширение):"
   ]
  },
  {
   "cell_type": "code",
   "execution_count": 7,
   "metadata": {
    "collapsed": false
   },
   "outputs": [
    {
     "name": "stdout",
     "output_type": "stream",
     "text": [
      "Найдено 2 файла(ов):\n",
      "1_Лекция_Лингвистические электронные ресурсы\n",
      "corpus_freq\n"
     ]
    }
   ],
   "source": [
    "i = 0\n",
    "names = []\n",
    "for root, dirs, files in os.walk('.'):\n",
    "    for f in files:\n",
    "        if len(f.split('.')[0]) > 10:\n",
    "            i += 1\n",
    "            names.append(f.split('.')[0])\n",
    "print('Найдено {} файла(ов):'.format(i))\n",
    "for name in names:\n",
    "    print(name)"
   ]
  },
  {
   "cell_type": "markdown",
   "metadata": {},
   "source": [
    "Вот у меня в папке BAWE лежит корпус. Каждое эссе хранится в отдельном файле, а я хочу собрать информацию во всех из них. Эта задача решается с помощью os.walk(). Удобнее всего взять тексты, лежащие в каталоге CORPUS_TXT (потому что они в удобных текстовых файлах)."
   ]
  },
  {
   "cell_type": "code",
   "execution_count": 8,
   "metadata": {
    "collapsed": false
   },
   "outputs": [
    {
     "ename": "FileNotFoundError",
     "evalue": "[Errno 2] No such file or directory: '0003h.txt'",
     "output_type": "error",
     "traceback": [
      "\u001b[0;31m---------------------------------------------------------------------------\u001b[0m",
      "\u001b[0;31mFileNotFoundError\u001b[0m                         Traceback (most recent call last)",
      "\u001b[0;32m<ipython-input-8-1e626f75a56b>\u001b[0m in \u001b[0;36m<module>\u001b[0;34m()\u001b[0m\n\u001b[1;32m      4\u001b[0m         \u001b[0;32mif\u001b[0m \u001b[0;32mnot\u001b[0m \u001b[0mf\u001b[0m\u001b[0;34m.\u001b[0m\u001b[0mendswith\u001b[0m\u001b[0;34m(\u001b[0m\u001b[0;34m'.txt'\u001b[0m\u001b[0;34m)\u001b[0m\u001b[0;34m:\u001b[0m\u001b[0;34m\u001b[0m\u001b[0m\n\u001b[1;32m      5\u001b[0m             \u001b[0;32mcontinue\u001b[0m       \u001b[0;31m# файлы с другими расширениями, не относящиеся к корпусу, нас не интересуют.\u001b[0m\u001b[0;34m\u001b[0m\u001b[0m\n\u001b[0;32m----> 6\u001b[0;31m         \u001b[0;32mwith\u001b[0m \u001b[0mopen\u001b[0m\u001b[0;34m(\u001b[0m\u001b[0mf\u001b[0m\u001b[0;34m,\u001b[0m \u001b[0;34m'r'\u001b[0m\u001b[0;34m,\u001b[0m \u001b[0mencoding\u001b[0m\u001b[0;34m=\u001b[0m\u001b[0;34m'utf-8'\u001b[0m\u001b[0;34m)\u001b[0m \u001b[0;32mas\u001b[0m \u001b[0mtext\u001b[0m\u001b[0;34m:\u001b[0m\u001b[0;34m\u001b[0m\u001b[0m\n\u001b[0m\u001b[1;32m      7\u001b[0m             \u001b[0mwhole_corpus\u001b[0m \u001b[0;34m+=\u001b[0m \u001b[0mtext\u001b[0m\u001b[0;34m.\u001b[0m\u001b[0mread\u001b[0m\u001b[0;34m(\u001b[0m\u001b[0;34m)\u001b[0m\u001b[0;34m\u001b[0m\u001b[0m\n",
      "\u001b[0;31mFileNotFoundError\u001b[0m: [Errno 2] No such file or directory: '0003h.txt'"
     ]
    }
   ],
   "source": [
    "whole_corpus = ''\n",
    "for root, dirs, files in os.walk('BAWE/CORPUS_TXT'):\n",
    "    for f in files:\n",
    "        if not f.endswith('.txt'):\n",
    "            continue       # файлы с другими расширениями, не относящиеся к корпусу, нас не интересуют.\n",
    "        with open(f, 'r', encoding='utf-8') as text:\n",
    "            whole_corpus += text.read()"
   ]
  },
  {
   "cell_type": "markdown",
   "metadata": {},
   "source": [
    "Как же так - нет такого файла? В нужной папке он вроде есть:"
   ]
  },
  {
   "cell_type": "code",
   "execution_count": 9,
   "metadata": {
    "collapsed": false
   },
   "outputs": [
    {
     "data": {
      "text/plain": [
       "True"
      ]
     },
     "execution_count": 9,
     "metadata": {},
     "output_type": "execute_result"
    }
   ],
   "source": [
    "'0003h.txt' in os.listdir('BAWE/CORPUS_TXT')"
   ]
  },
  {
   "cell_type": "markdown",
   "metadata": {},
   "source": [
    "На самом деле, функция `open` очень зависит от указанного пути к файлу. В переменной `files` пути к файлам не лежат, только сами имена файлов, и когда мы передаем их функции open, она ищет такой файл в корневой папке, а там его, конечно, нет.\n",
    "\n",
    "Выход - берем путь к файлу из переменной `root`."
   ]
  },
  {
   "cell_type": "code",
   "execution_count": 10,
   "metadata": {
    "collapsed": true
   },
   "outputs": [],
   "source": [
    "whole_corpus = ''\n",
    "for root, dirs, files in os.walk('BAWE/CORPUS_TXT'):\n",
    "    for f in files:\n",
    "        if not f.endswith('.txt'):\n",
    "            continue       # файлы с другими расширениями, не относящиеся к корпусу, нас не интересуют.\n",
    "        with open(os.path.join(root, f), 'r', encoding='utf-8') as text:\n",
    "            whole_corpus += text.read()"
   ]
  },
  {
   "cell_type": "markdown",
   "metadata": {},
   "source": [
    "Теперь весь наш корпус записан в переменной `whole_corpus`. Можно грубо прикинуть, каков размер корпуса."
   ]
  },
  {
   "cell_type": "code",
   "execution_count": 11,
   "metadata": {
    "collapsed": false
   },
   "outputs": [
    {
     "data": {
      "text/plain": [
       "6639776"
      ]
     },
     "execution_count": 11,
     "metadata": {},
     "output_type": "execute_result"
    }
   ],
   "source": [
    "len(whole_corpus.split())"
   ]
  },
  {
   "cell_type": "markdown",
   "metadata": {
    "collapsed": false
   },
   "source": [
    "С помощью os.walk() можно не только ходить по папкам сверху вниз, но и снизу вверх. Тогда программа начнет с самой глубокой папки в текущем дереве папок:"
   ]
  },
  {
   "cell_type": "code",
   "execution_count": 12,
   "metadata": {
    "collapsed": false
   },
   "outputs": [
    {
     "name": "stdout",
     "output_type": "stream",
     "text": [
      "./.ipynb_checkpoints\n",
      "./BAWE/documentation\n",
      "./BAWE/CORPUS_ASCII\n",
      "./BAWE/CORPUS_TXT\n",
      "./BAWE/CORPUS_UTF-8\n",
      "./BAWE\n",
      "./top_folder\n",
      ".\n"
     ]
    }
   ],
   "source": [
    "for root, dirs, files in os.walk('.', topdown=False):\n",
    "    print(root)"
   ]
  },
  {
   "cell_type": "markdown",
   "metadata": {},
   "source": [
    "Ну и наконец, можно ограничить папки, которые нужно посетить в ходе работы функции `os.walk()`. Поскольку на каждом шаге функция переходит в одну из папок, которые хранятся в переменной `dirs`, если мы удалим что-нибудь из этой переменной, то функция туда не перейдёт.\n",
    "\n",
    "Например, мы не хотим посещать скрытые папки (те, название которых начинается с точки):"
   ]
  },
  {
   "cell_type": "code",
   "execution_count": 13,
   "metadata": {
    "collapsed": false
   },
   "outputs": [
    {
     "name": "stdout",
     "output_type": "stream",
     "text": [
      ".\n",
      "./BAWE\n",
      "./BAWE/documentation\n",
      "./BAWE/CORPUS_ASCII\n",
      "./BAWE/CORPUS_TXT\n",
      "./BAWE/CORPUS_UTF-8\n",
      "./top_folder\n"
     ]
    }
   ],
   "source": [
    "for root, dirs, files in os.walk('.'):\n",
    "    for d in dirs:\n",
    "        if d.startswith('.'):\n",
    "            dirs.remove(d)\n",
    "    print(root)"
   ]
  },
  {
   "cell_type": "markdown",
   "metadata": {},
   "source": [
    "# Задания\n",
    "\n",
    "1. Написать свою имплементацию функции shutil.rmtree() - то есть функцию, которая удаляет выбранную папку со всеми папками и файлами внутри неё.\n",
    "2. Написать программу, которая рисует дерево текущей папки в таком виде:\n",
    "\n",
    "  --folder1\n",
    "        --folder4\n",
    "              file4\n",
    "              file5\n",
    "        --folder5\n",
    "  --folder2\n",
    "        file2\n",
    "        file3\n",
    "  --folder3\n",
    "  \n",
    "3. Скачать [архив](https://cloud.mail.ru/public/4bTt/XB9er2e3U) и распаковать его. Это уже знакомый нам корпус BAWE. В папке CORPUS_TXT и CORPUS_UTF-8 лежат одни и те же тексты, только в CORPUS_UTF-8 они с разметкой, а в CORPUS_TXT без разметки. Представленные тексты принадлежат к разным дисциплинам: History, Sociology, Literature, etc. Вам нужно собрать корпуса эссе для каждой дисциплины и посчитать частотный список для каждого корпуса. Для этого вам нужно извлечь категорию эссе из xml-файлов в папке CORPUS_UTF-8, а затем взять файл с таким же именем в папке CORPUS_TXT и добавить его содержимое в соответствующий корпус."
   ]
  },
  {
   "cell_type": "code",
   "execution_count": null,
   "metadata": {
    "collapsed": true
   },
   "outputs": [],
   "source": []
  }
 ],
 "metadata": {
  "kernelspec": {
   "display_name": "Python 3",
   "language": "python",
   "name": "python3"
  },
  "language_info": {
   "codemirror_mode": {
    "name": "ipython",
    "version": 3
   },
   "file_extension": ".py",
   "mimetype": "text/x-python",
   "name": "python",
   "nbconvert_exporter": "python",
   "pygments_lexer": "ipython3",
   "version": "3.4.2"
  }
 },
 "nbformat": 4,
 "nbformat_minor": 2
}
